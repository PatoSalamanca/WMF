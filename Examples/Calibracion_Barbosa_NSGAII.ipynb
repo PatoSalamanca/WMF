{
 "cells": [
  {
   "cell_type": "markdown",
   "metadata": {
    "deletable": true,
    "editable": true
   },
   "source": [
    "# Calibracion BARBOSA NSGAII\n",
    "\n",
    "Este es un ensayo de como se puede implementar el algortimo NSGAII para la calibración de un modelo hidrológico."
   ]
  },
  {
   "cell_type": "code",
   "execution_count": 83,
   "metadata": {
    "collapsed": false,
    "deletable": true,
    "editable": true
   },
   "outputs": [],
   "source": [
    "%matplotlib inline \n",
    "import numpy as np \n",
    "import pylab as pl \n",
    "from wmf import wmf \n",
    "import pandas as pnd\n",
    "# Herramientas para DEAP\n",
    "from deap import base, creator\n",
    "import random\n",
    "from deap import tools\n"
   ]
  },
  {
   "cell_type": "markdown",
   "metadata": {
    "deletable": true,
    "editable": true
   },
   "source": [
    "## Preparación cuenca para simular "
   ]
  },
  {
   "cell_type": "code",
   "execution_count": 2,
   "metadata": {
    "collapsed": true,
    "deletable": true,
    "editable": true
   },
   "outputs": [],
   "source": [
    "#Cargado de la cuenca y set\n",
    "cu = wmf.SimuBasin(rute='/media/nicolas/Home/nicolas/01_SIATA/nc_cuencas/Cuenca_AMVA_Barbosa_C.nc')\n",
    "wmf.models.show_storage = 1\n",
    "wmf.models.separate_fluxes = 1\n",
    "wmf.models.dt=300.0\n",
    "#Rutas de la lluvia\n",
    "ruta_lluvia = '/media/nicolas/Home/nicolas/01_SIATA/bin_rain/Barbosa60m/Barbosa60m_201702210500-201702212000.bin'\n",
    "ruta_hdr = '/media/nicolas/Home/nicolas/01_SIATA/bin_rain/Barbosa60m/Barbosa60m_201702210500-201702212000.hdr'\n",
    "#Nodo de evaluacion\n",
    "p =np.where(wmf.models.control[wmf.models.control<>0] == 371)\n",
    "nodo=p[0]\n",
    "nodo = nodo+1"
   ]
  },
  {
   "cell_type": "code",
   "execution_count": 3,
   "metadata": {
    "collapsed": false,
    "deletable": true,
    "editable": true
   },
   "outputs": [
    {
     "data": {
      "text/plain": [
       "(77,)"
      ]
     },
     "execution_count": 3,
     "metadata": {},
     "output_type": "execute_result"
    }
   ],
   "source": [
    "#Caudal Observado\n",
    "Qaula = pnd.read_msgpack('/media/nicolas/Home/nicolas/01_SIATA/series/Q_Aula-20170221-20170222.bin')\n",
    "Qaula = Qaula.rolling(window=3).median()\n",
    "Qobs = Qaula['2017-02-21-15:00':'2017-02-21-21:20'].values\n",
    "Qobs.shape"
   ]
  },
  {
   "cell_type": "markdown",
   "metadata": {
    "deletable": true,
    "editable": true
   },
   "source": [
    "Condiciones almacenamiento "
   ]
  },
  {
   "cell_type": "code",
   "execution_count": 4,
   "metadata": {
    "collapsed": true,
    "deletable": true,
    "editable": true
   },
   "outputs": [],
   "source": [
    "#Condiciones \n",
    "cu.set_Storage(wmf.models.max_capilar*0.07,0) #quiero entender esto..\n",
    "cu.set_Storage(1500,3)"
   ]
  },
  {
   "cell_type": "markdown",
   "metadata": {
    "deletable": true,
    "editable": true
   },
   "source": [
    "### Ejecución:\n",
    "\n",
    "Calibracion : Parametros de calibracion del modelo, orden:.\n",
    "            - Evaporacion.\n",
    "            - Infiltracion.\n",
    "            - Percolacion.\n",
    "            - Perdidas.\n",
    "            - Vel Superficial .\n",
    "            - Vel Sub-superficial.\n",
    "            - Vel Subterranea.\n",
    "            - Vel Cauce.\n",
    "            - Max Capilar.\n",
    "            - Max Gravitacional."
   ]
  },
  {
   "cell_type": "markdown",
   "metadata": {
    "deletable": true,
    "editable": true
   },
   "source": [
    "# Ensayo NSGAII\n",
    "\n",
    "Desde **wmf** se trae una nueva clase la cual es la herramienta que va a dar las ordenes a **SimuBasin** para realizar el proceso de calibración automático multi-objetivo.\n",
    "\n",
    "A continuación se establece la cantidad de pasos, el inicio de la simulación y variables básicas para la misma, tales como:\n",
    "- ruta de la lluvia binaria.\n",
    "- Caudal observado con el cual se compara el algorítmo.\n",
    "- el objeto de simulación **cu**.\n",
    "- Los rangos aleatorios de construcción de individuos, y sus rangos de mutación."
   ]
  },
  {
   "cell_type": "code",
   "execution_count": 70,
   "metadata": {
    "collapsed": false,
    "deletable": true,
    "editable": true
   },
   "outputs": [],
   "source": [
    "#Inicip y cantidad de pasos\n",
    "inicio = 125\n",
    "npasos = 50\n",
    "#Set del elemento\n",
    "Ns = wmf.nsgaii_element(ruta_lluvia, np.roll(Qobs[5:55], -5), npasos, inicio, cu, \n",
    "    evp = [0.00001, 0.0002],\n",
    "    infil = [80, 200],\n",
    "    perco = [10, 50],\n",
    "    losses = [0,0],\n",
    "    velRun = [0.2, 3],\n",
    "    velSub = [0.5, 4],\n",
    "    velSup = [0.2, 0.2],\n",
    "    velStream = [0.99, 0.99],\n",
    "    Hu = [1,1],\n",
    "    Hg = [1,1],\n",
    "    rangosMutacion=[[0.00001, 0.0002], \n",
    "        [80, 200], [10, 50], [0, 0], [0.2, 3], [0.5, 4], [0.2, 0.2], [0.99, 0.99], [1.0, 1.0], [1.0, 1.0]],)\n",
    "    #probCruce = [0.5, 0.2, 0.3, 1.0, 0.2, 0.2, 1.0, 1.0, 1.0],\n",
    "    #probMutacion = [0.5, 0.2, 0.3, 1.0, 0.2, 0.2, 1.0, 1.0, 1.0])"
   ]
  },
  {
   "cell_type": "markdown",
   "metadata": {},
   "source": [
    "A continuación se lanza el algoritmo de calibración, el caul pertenece al objeto como tal, en este se establece:\n",
    "- **Ns**: El objeto con las instrucciónes para la evolución.\n",
    "- **nodo**: El resultado de simulación de la cuenca que se va a tomar para evaluar al modelo.\n",
    "- **pop_size**: tamano de la población.\n",
    "- **process**: Cantidad de núcleos del sistema que van a ser utilizados en paralelo.\n",
    "- **MUTPB**: Probabilidad genérica de mutación de un individuo.\n",
    "- **CXPB**: Probabilidad genérica de cruce de dos indiviudos."
   ]
  },
  {
   "cell_type": "code",
   "execution_count": 71,
   "metadata": {
    "collapsed": false,
    "deletable": true,
    "editable": true
   },
   "outputs": [],
   "source": [
    "pop, Qsim, fit = cu.Calib_NSGAII(Ns, nodo, pop_size=40, process=20, MUTPB=0.5, CXPB=0.5)"
   ]
  },
  {
   "cell_type": "markdown",
   "metadata": {},
   "source": [
    "Se presenta el resultado obtenido para las 40 realizaciones "
   ]
  },
  {
   "cell_type": "code",
   "execution_count": 84,
   "metadata": {
    "collapsed": false,
    "deletable": true,
    "editable": true
   },
   "outputs": [
    {
     "data": {
      "text/plain": [
       "[<matplotlib.lines.Line2D at 0x7fe1dec7d210>]"
      ]
     },
     "execution_count": 84,
     "metadata": {},
     "output_type": "execute_result"
    },
    {
     "data": {
      "image/png": "[encoded data removed]",
      "text/plain": [
       "<matplotlib.figure.Figure at 0x7fe1dec7d190>"
      ]
     },
     "metadata": {},
     "output_type": "display_data"
    }
   ],
   "source": [
    "for i in Qsim:\n",
    "    pl.plot(i, 'b')\n",
    "pl.plot(np.roll(Qobs[5:45], -5), 'r', lw = 3)"
   ]
  },
  {
   "cell_type": "markdown",
   "metadata": {},
   "source": [
    "**Figura 1**: Resultados de simulación (azul), vs caudal observado."
   ]
  },
  {
   "cell_type": "code",
   "execution_count": 80,
   "metadata": {
    "collapsed": true
   },
   "outputs": [],
   "source": [
    "fit = np.array(fit).T"
   ]
  },
  {
   "cell_type": "code",
   "execution_count": 85,
   "metadata": {
    "collapsed": false
   },
   "outputs": [
    {
     "data": {
      "image/png": "[encoded data removed]",
      "text/plain": [
       "<matplotlib.figure.Figure at 0x7fe1df94c7d0>"
      ]
     },
     "metadata": {},
     "output_type": "display_data"
    }
   ],
   "source": [
    "pl.scatter(np.array(fit).T[0],np.array(fit).T[1] )\n",
    "pl.grid(True)"
   ]
  },
  {
   "cell_type": "markdown",
   "metadata": {},
   "source": [
    "**Figura 2**: Superficie de pareto optimizada por el modelo de calibración."
   ]
  }
 ],
 "metadata": {
  "kernelspec": {
   "display_name": "Python 2",
   "language": "python",
   "name": "python2"
  },
  "language_info": {
   "codemirror_mode": {
    "name": "ipython",
    "version": 2
   },
   "file_extension": ".py",
   "mimetype": "text/x-python",
   "name": "python",
   "nbconvert_exporter": "python",
   "pygments_lexer": "ipython2",
   "version": "2.7.6"
  }
 },
 "nbformat": 4,
 "nbformat_minor": 2
}
